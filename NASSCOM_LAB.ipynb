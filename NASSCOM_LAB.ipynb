{
  "nbformat": 4,
  "nbformat_minor": 0,
  "metadata": {
    "colab": {
      "name": "NASSCOM_LAB.ipynb",
      "provenance": [],
      "collapsed_sections": [],
      "authorship_tag": "ABX9TyObW3Lvieo+NPxe0X+J8Acc",
      "include_colab_link": true
    },
    "kernelspec": {
      "name": "python3",
      "display_name": "Python 3"
    },
    "accelerator": "GPU"
  },
  "cells": [
    {
      "cell_type": "markdown",
      "metadata": {
        "id": "view-in-github",
        "colab_type": "text"
      },
      "source": [
        "<a href=\"https://colab.research.google.com/github/bharatbrijwasi/python4DataScience/blob/master/NASSCOM_LAB.ipynb\" target=\"_parent\"><img src=\"https://colab.research.google.com/assets/colab-badge.svg\" alt=\"Open In Colab\"/></a>"
      ]
    },
    {
      "cell_type": "code",
      "metadata": {
        "id": "lb9lgFmwnxd0",
        "colab_type": "code",
        "colab": {}
      },
      "source": [
        "print(\"welcome python 101\")"
      ],
      "execution_count": 0,
      "outputs": []
    },
    {
      "cell_type": "code",
      "metadata": {
        "id": "fFa9cDouojqy",
        "colab_type": "code",
        "colab": {}
      },
      "source": [
        "print(\"Hello\\nWorld!\")"
      ],
      "execution_count": 0,
      "outputs": []
    },
    {
      "cell_type": "code",
      "metadata": {
        "id": "q0aUg5qRo1A3",
        "colab_type": "code",
        "colab": {}
      },
      "source": [
        "#print('Hello World')"
      ],
      "execution_count": 0,
      "outputs": []
    },
    {
      "cell_type": "code",
      "metadata": {
        "id": "2U0uB0L2p6Vf",
        "colab_type": "code",
        "colab": {}
      },
      "source": [
        "a = 10\n",
        "b = 10.0\n",
        "type(a)\n",
        "type(b)"
      ],
      "execution_count": 0,
      "outputs": []
    },
    {
      "cell_type": "code",
      "metadata": {
        "id": "CmrcFsUbqE4v",
        "colab_type": "code",
        "colab": {}
      },
      "source": [
        "#type of following number\n",
        "int(1.0)"
      ],
      "execution_count": 0,
      "outputs": []
    },
    {
      "cell_type": "code",
      "metadata": {
        "id": "8Dmry_HAqUL6",
        "colab_type": "code",
        "colab": {}
      },
      "source": [
        "#convert Number 1 to Boolean\n",
        "bool(1)"
      ],
      "execution_count": 0,
      "outputs": []
    },
    {
      "cell_type": "code",
      "metadata": {
        "id": "d-ICE8PSsUMY",
        "colab_type": "code",
        "colab": {}
      },
      "source": [
        "#String\n",
        "\"Bharat Sharma\"\n",
        "#or\n",
        "'Bharat Sharma'"
      ],
      "execution_count": 0,
      "outputs": []
    },
    {
      "cell_type": "code",
      "metadata": {
        "id": "W651Wv76sUkM",
        "colab_type": "code",
        "colab": {}
      },
      "source": [
        "#accessing index values\n",
        "name = \"Bharat Sharma\"\n",
        "name[10]"
      ],
      "execution_count": 0,
      "outputs": []
    },
    {
      "cell_type": "code",
      "metadata": {
        "id": "ygEPwXlVvfWg",
        "colab_type": "code",
        "outputId": "9761087f-7062-4326-90d3-ea5b5876ce3e",
        "colab": {
          "base_uri": "https://localhost:8080/",
          "height": 34
        }
      },
      "source": [
        "#we can also used negative number to access the String vlues\n",
        "name = \"bharat\"\n",
        "name[-6]"
      ],
      "execution_count": 0,
      "outputs": [
        {
          "output_type": "execute_result",
          "data": {
            "text/plain": [
              "'b'"
            ]
          },
          "metadata": {
            "tags": []
          },
          "execution_count": 8
        }
      ]
    },
    {
      "cell_type": "code",
      "metadata": {
        "id": "qO5Xmt4TvfUn",
        "colab_type": "code",
        "outputId": "6814ec21-4993-4130-c98f-b4d0c618db41",
        "colab": {
          "base_uri": "https://localhost:8080/",
          "height": 34
        }
      },
      "source": [
        "name = \"Bharat Sharma\"\n",
        "name[::2]\n",
        "#2 indicate the accesss every second element"
      ],
      "execution_count": 0,
      "outputs": [
        {
          "output_type": "execute_result",
          "data": {
            "text/plain": [
              "'Baa hra'"
            ]
          },
          "metadata": {
            "tags": []
          },
          "execution_count": 9
        }
      ]
    },
    {
      "cell_type": "code",
      "metadata": {
        "id": "l-FlM4hkvfSo",
        "colab_type": "code",
        "outputId": "6aaee137-ba29-4046-9dea-4b3b1e73d2e1",
        "colab": {
          "base_uri": "https://localhost:8080/",
          "height": 34
        }
      },
      "source": [
        "#Check the length of the String\n",
        "name = \"Bharat Sharma\"\n",
        "len(name)"
      ],
      "execution_count": 0,
      "outputs": [
        {
          "output_type": "execute_result",
          "data": {
            "text/plain": [
              "13"
            ]
          },
          "metadata": {
            "tags": []
          },
          "execution_count": 10
        }
      ]
    },
    {
      "cell_type": "code",
      "metadata": {
        "id": "fFmoX707vfPn",
        "colab_type": "code",
        "outputId": "b58086fe-055c-4692-84e8-461780b0f848",
        "colab": {
          "base_uri": "https://localhost:8080/",
          "height": 34
        }
      },
      "source": [
        "#String concetenation\n",
        "name = \"Bharat Sharma\"\n",
        "statement = name + \" is the best\"\n",
        "statement"
      ],
      "execution_count": 0,
      "outputs": [
        {
          "output_type": "execute_result",
          "data": {
            "text/plain": [
              "'Bharat Sharma is the best'"
            ]
          },
          "metadata": {
            "tags": []
          },
          "execution_count": 13
        }
      ]
    },
    {
      "cell_type": "code",
      "metadata": {
        "id": "aBwOZPY6w-23",
        "colab_type": "code",
        "outputId": "eaa31ecd-0d36-40e9-afff-f5ea8c6a2f81",
        "colab": {
          "base_uri": "https://localhost:8080/",
          "height": 34
        }
      },
      "source": [
        "#replicate the value of String\n",
        "name = \" Bharat Sharma\"\n",
        "repeat = 3* name\n",
        "repeat"
      ],
      "execution_count": 0,
      "outputs": [
        {
          "output_type": "execute_result",
          "data": {
            "text/plain": [
              "' Bharat Sharma Bharat Sharma Bharat Sharma'"
            ]
          },
          "metadata": {
            "tags": []
          },
          "execution_count": 16
        }
      ]
    },
    {
      "cell_type": "code",
      "metadata": {
        "id": "5g2_9wP2x8Fd",
        "colab_type": "code",
        "outputId": "1235c71b-9e41-40c5-d4cc-ba1d503132ac",
        "colab": {
          "base_uri": "https://localhost:8080/",
          "height": 34
        }
      },
      "source": [
        "#UpperCase and Lowercase String\n",
        "name = \"bharat sharma\"\n",
        "name = name.upper() #same as with lowercase\n",
        "name"
      ],
      "execution_count": 0,
      "outputs": [
        {
          "output_type": "execute_result",
          "data": {
            "text/plain": [
              "'BHARAT SHARMA'"
            ]
          },
          "metadata": {
            "tags": []
          },
          "execution_count": 18
        }
      ]
    },
    {
      "cell_type": "code",
      "metadata": {
        "id": "k4iRUeI6x8VO",
        "colab_type": "code",
        "outputId": "559ae171-ad53-4169-c182-a0818856482f",
        "colab": {
          "base_uri": "https://localhost:8080/",
          "height": 34
        }
      },
      "source": [
        "#String replace() function\n",
        "statement = \"Bharat sharma is the best\"\n",
        "replace = statement.replace(\"Bharat sharma\", \"James\")\n",
        "replace"
      ],
      "execution_count": 0,
      "outputs": [
        {
          "output_type": "execute_result",
          "data": {
            "text/plain": [
              "'James is the best'"
            ]
          },
          "metadata": {
            "tags": []
          },
          "execution_count": 19
        }
      ]
    },
    {
      "cell_type": "code",
      "metadata": {
        "id": "ZfbJYncAx8qV",
        "colab_type": "code",
        "outputId": "11dfb19c-2eb3-46e1-f722-975988050656",
        "colab": {
          "base_uri": "https://localhost:8080/",
          "height": 34
        }
      },
      "source": [
        "#find() String function\n",
        "statement  = \"bharat sharma is the best\"\n",
        "findIndex = statement.find(\"is\")\n",
        "findIndex"
      ],
      "execution_count": 0,
      "outputs": [
        {
          "output_type": "execute_result",
          "data": {
            "text/plain": [
              "14"
            ]
          },
          "metadata": {
            "tags": []
          },
          "execution_count": 21
        }
      ]
    },
    {
      "cell_type": "code",
      "metadata": {
        "id": "mXo_FNlwx8w3",
        "colab_type": "code",
        "outputId": "d9d25b36-1175-4acc-a36d-889d3589107b",
        "colab": {
          "base_uri": "https://localhost:8080/",
          "height": 34
        }
      },
      "source": [
        "#consider the following String numbers = \"0123456\", obtain the even Element\n",
        "numbers = \"0123456\"\n",
        "numbers[::2]\n"
      ],
      "execution_count": 0,
      "outputs": [
        {
          "output_type": "execute_result",
          "data": {
            "text/plain": [
              "'0246'"
            ]
          },
          "metadata": {
            "tags": []
          },
          "execution_count": 23
        }
      ]
    },
    {
      "cell_type": "code",
      "metadata": {
        "id": "Ygnti7wvx9nY",
        "colab_type": "code",
        "outputId": "1806baad-a222-433c-b311-03c23fce351a",
        "colab": {
          "base_uri": "https://localhost:8080/",
          "height": 34
        }
      },
      "source": [
        "#check the result\n",
        "\"0123456\".find('1')"
      ],
      "execution_count": 0,
      "outputs": [
        {
          "output_type": "execute_result",
          "data": {
            "text/plain": [
              "1"
            ]
          },
          "metadata": {
            "tags": []
          },
          "execution_count": 24
        }
      ]
    },
    {
      "cell_type": "code",
      "metadata": {
        "id": "zMZiSdvhx91a",
        "colab_type": "code",
        "outputId": "10039359-6423-4ec5-cbf2-4b81a9e905fd",
        "colab": {
          "base_uri": "https://localhost:8080/",
          "height": 34
        }
      },
      "source": [
        "#Tuples:Tuples are an ordered sequence\n",
        "#Tuples are written as Comma-separated elements within parenthesis\n",
        "#tuples are Immutable\n",
        "\n",
        "tuples1 = (\"Disco\", 10,1.2)\n",
        "tuples1"
      ],
      "execution_count": 0,
      "outputs": [
        {
          "output_type": "execute_result",
          "data": {
            "text/plain": [
              "('Disco', 10, 1.2)"
            ]
          },
          "metadata": {
            "tags": []
          },
          "execution_count": 25
        }
      ]
    },
    {
      "cell_type": "code",
      "metadata": {
        "id": "Br4sknGox97E",
        "colab_type": "code",
        "outputId": "f6779f17-455a-48cd-9c8a-eb2f93ca615b",
        "colab": {
          "base_uri": "https://localhost:8080/",
          "height": 34
        }
      },
      "source": [
        "#accessing tuple first Element\n",
        "tuple1 = (\"Disco\", 10, 1.2)\n",
        "tuple1[0]"
      ],
      "execution_count": 0,
      "outputs": [
        {
          "output_type": "execute_result",
          "data": {
            "text/plain": [
              "1.2"
            ]
          },
          "metadata": {
            "tags": []
          },
          "execution_count": 27
        }
      ]
    },
    {
      "cell_type": "code",
      "metadata": {
        "id": "4dwvQ67cx-O6",
        "colab_type": "code",
        "outputId": "26ca126b-8d9c-4aa0-e0ce-122d5dca2c3d",
        "colab": {
          "base_uri": "https://localhost:8080/",
          "height": 34
        }
      },
      "source": [
        "#tuple Concatenation\n",
        "tuple1 = (\"Disco\", 10, 1.2)\n",
        "tuple2 = tuple1 + (\"hard rock\", 10)\n",
        "tuple2"
      ],
      "execution_count": 0,
      "outputs": [
        {
          "output_type": "execute_result",
          "data": {
            "text/plain": [
              "('Disco', 10, 1.2, 'hard rock', 10)"
            ]
          },
          "metadata": {
            "tags": []
          },
          "execution_count": 28
        }
      ]
    },
    {
      "cell_type": "code",
      "metadata": {
        "id": "iEmcMXWcx9zp",
        "colab_type": "code",
        "outputId": "8a5646a6-96ca-4d04-e129-86f54986065d",
        "colab": {
          "base_uri": "https://localhost:8080/",
          "height": 34
        }
      },
      "source": [
        "#length of tuple\n",
        "tuple3 = (1,2,3,4,4,\"Bharat\", \"roxx\",1.1)\n",
        "len(tuple3)"
      ],
      "execution_count": 0,
      "outputs": [
        {
          "output_type": "execute_result",
          "data": {
            "text/plain": [
              "8"
            ]
          },
          "metadata": {
            "tags": []
          },
          "execution_count": 30
        }
      ]
    },
    {
      "cell_type": "code",
      "metadata": {
        "id": "qbLbbp-5x9xu",
        "colab_type": "code",
        "outputId": "16df1f92-6ffb-4596-e837-5b8b1e9304bd",
        "colab": {
          "base_uri": "https://localhost:8080/",
          "height": 34
        }
      },
      "source": [
        "#Sorted tuple\n",
        "tuple4 = (12,23,2,2,4,54,6,57,543,2,)\n",
        "sortedTuple = sorted(tuple4)\n",
        "sortedTuple"
      ],
      "execution_count": 0,
      "outputs": [
        {
          "output_type": "execute_result",
          "data": {
            "text/plain": [
              "[2, 2, 2, 4, 6, 12, 23, 54, 57, 543]"
            ]
          },
          "metadata": {
            "tags": []
          },
          "execution_count": 32
        }
      ]
    },
    {
      "cell_type": "code",
      "metadata": {
        "id": "ED4XxA10x9v7",
        "colab_type": "code",
        "outputId": "98ff2ece-0a80-4827-f6ed-6ad8fc97d2d5",
        "colab": {
          "base_uri": "https://localhost:8080/",
          "height": 34
        }
      },
      "source": [
        "#nested tuple\n",
        "nt = (1,2,(\"pop\", \"rock\"), (3, 4), (\"disco\", (1, 2)))\n",
        "nt"
      ],
      "execution_count": 0,
      "outputs": [
        {
          "output_type": "execute_result",
          "data": {
            "text/plain": [
              "(1, 2, ('pop', 'rock'), (3, 4), ('disco', (1, 2)))"
            ]
          },
          "metadata": {
            "tags": []
          },
          "execution_count": 33
        }
      ]
    },
    {
      "cell_type": "code",
      "metadata": {
        "id": "UXahF1MVx9uG",
        "colab_type": "code",
        "outputId": "c99b1c7e-36dc-48ab-e4ca-894e06bbb27d",
        "colab": {
          "base_uri": "https://localhost:8080/",
          "height": 34
        }
      },
      "source": [
        "#accessing the tuple that contain disco ELement\n",
        "nt[4][0]"
      ],
      "execution_count": 0,
      "outputs": [
        {
          "output_type": "execute_result",
          "data": {
            "text/plain": [
              "'disco'"
            ]
          },
          "metadata": {
            "tags": []
          },
          "execution_count": 34
        }
      ]
    },
    {
      "cell_type": "code",
      "metadata": {
        "id": "frQbSep3x9r1",
        "colab_type": "code",
        "outputId": "f8994651-0b2a-47a7-e63c-dca9e1af3ab1",
        "colab": {
          "base_uri": "https://localhost:8080/",
          "height": 34
        }
      },
      "source": [
        "#List are also ordered sequence\n",
        "#here is a List \"L\"\n",
        "#a list represented with square brackets\n",
        "#list is Mutable\n",
        "L = [\"Bharat Sharma\", 10.1, 1982]\n",
        "L"
      ],
      "execution_count": 0,
      "outputs": [
        {
          "output_type": "execute_result",
          "data": {
            "text/plain": [
              "['Bharat Sharma', 10.1, 1982]"
            ]
          },
          "metadata": {
            "tags": []
          },
          "execution_count": 35
        }
      ]
    },
    {
      "cell_type": "code",
      "metadata": {
        "id": "75LyOciOx9lW",
        "colab_type": "code",
        "outputId": "eed33e77-f530-4cf8-ea6d-a5e8d8439173",
        "colab": {
          "base_uri": "https://localhost:8080/",
          "height": 34
        }
      },
      "source": [
        "#accessing the Element of the list\n",
        "L[0]"
      ],
      "execution_count": 0,
      "outputs": [
        {
          "output_type": "execute_result",
          "data": {
            "text/plain": [
              "'Bharat Sharma'"
            ]
          },
          "metadata": {
            "tags": []
          },
          "execution_count": 37
        }
      ]
    },
    {
      "cell_type": "code",
      "metadata": {
        "id": "O7pqWL_ux8uf",
        "colab_type": "code",
        "outputId": "677fcbe3-28be-4e86-f8eb-d664e414b1cb",
        "colab": {
          "base_uri": "https://localhost:8080/",
          "height": 34
        }
      },
      "source": [
        "#slicing list:\n",
        "L1 = [\"Bharat Sharma\", 10.1, 1982, \"MJ\", 1]\n",
        "#accessing the Last two Element\n",
        "L1[3:5] "
      ],
      "execution_count": 0,
      "outputs": [
        {
          "output_type": "execute_result",
          "data": {
            "text/plain": [
              "['MJ', 1]"
            ]
          },
          "metadata": {
            "tags": []
          },
          "execution_count": 39
        }
      ]
    },
    {
      "cell_type": "code",
      "metadata": {
        "id": "v9VoRK7fx8ol",
        "colab_type": "code",
        "outputId": "7cd5cade-b768-43ea-975b-e1a151c5e67c",
        "colab": {
          "base_uri": "https://localhost:8080/",
          "height": 34
        }
      },
      "source": [
        "#List Concatenation\n",
        "L2 = [\"Bharat Sharma\", 10, 25, 1.12]\n",
        "l3 = L2 + [\"James\", 10,1.5]\n",
        "l3"
      ],
      "execution_count": 0,
      "outputs": [
        {
          "output_type": "execute_result",
          "data": {
            "text/plain": [
              "['Bharat Sharma', 10, 25, 1.12, 'James', 10, 1.5]"
            ]
          },
          "metadata": {
            "tags": []
          },
          "execution_count": 42
        }
      ]
    },
    {
      "cell_type": "code",
      "metadata": {
        "id": "T_DzKLWBx8TS",
        "colab_type": "code",
        "outputId": "212bb601-7db3-4659-f1eb-ea5686a71a9a",
        "colab": {
          "base_uri": "https://localhost:8080/",
          "height": 34
        }
      },
      "source": [
        "#As we know list is mutable so we can extend the list Elemetns by the extend() function\n",
        "list1 = [\"Bharat Sharma\", 10,2,0,5,5,0,2.2,10.2]\n",
        "list1.extend([\"roxx\", 100])\n",
        "#we can also add Elements to the list by append() method\n",
        "#like list1.append(\"roxx\")\n",
        "list1\n"
      ],
      "execution_count": 0,
      "outputs": [
        {
          "output_type": "execute_result",
          "data": {
            "text/plain": [
              "['Bharat Sharma', 10, 2, 0, 5, 5, 0, 2.2, 10.2, 'roxx', 100]"
            ]
          },
          "metadata": {
            "tags": []
          },
          "execution_count": 45
        }
      ]
    },
    {
      "cell_type": "code",
      "metadata": {
        "id": "zkxT6t69x8Qh",
        "colab_type": "code",
        "outputId": "039486d6-fe14-49c8-fa74-eb5bded2ec99",
        "colab": {
          "base_uri": "https://localhost:8080/",
          "height": 34
        }
      },
      "source": [
        "#add new list to the Existing list\n",
        "#using append() method\n",
        "list2 = [2,3,4,5,5,6,\"Bharat\"]\n",
        "list2.append([\"Sharma\", 10])\n",
        "list2"
      ],
      "execution_count": 0,
      "outputs": [
        {
          "output_type": "execute_result",
          "data": {
            "text/plain": [
              "[2, 3, 4, 5, 5, 6, 'Bharat', ['Sharma', 10]]"
            ]
          },
          "metadata": {
            "tags": []
          },
          "execution_count": 46
        }
      ]
    },
    {
      "cell_type": "code",
      "metadata": {
        "id": "3wf38ABxx8N-",
        "colab_type": "code",
        "outputId": "7beabd27-d592-4d76-96d1-322dd39207d2",
        "colab": {
          "base_uri": "https://localhost:8080/",
          "height": 34
        }
      },
      "source": [
        "#modifying the exist element in the list\n",
        "list3 = [2,3,4,8,5,0,6,7]\n",
        "#suppose we want to modify 0 with 1\n",
        "list3[5] = 1\n",
        "list3"
      ],
      "execution_count": 0,
      "outputs": [
        {
          "output_type": "execute_result",
          "data": {
            "text/plain": [
              "[2, 3, 4, 8, 5, 1, 6, 7]"
            ]
          },
          "metadata": {
            "tags": []
          },
          "execution_count": 50
        }
      ]
    },
    {
      "cell_type": "code",
      "metadata": {
        "id": "QStIub3Cx8L5",
        "colab_type": "code",
        "outputId": "f35a5263-bf12-4da1-c2b1-8acab13a081d",
        "colab": {
          "base_uri": "https://localhost:8080/",
          "height": 34
        }
      },
      "source": [
        "#delete the particular Element from the list by using del() function\n",
        "del(list3[3]) #it delete the Element that present at the third index \n",
        "list3"
      ],
      "execution_count": 0,
      "outputs": [
        {
          "output_type": "execute_result",
          "data": {
            "text/plain": [
              "[2, 3, 4, 5, 1, 6, 7]"
            ]
          },
          "metadata": {
            "tags": []
          },
          "execution_count": 52
        }
      ]
    },
    {
      "cell_type": "code",
      "metadata": {
        "id": "JIs7zipnx8Iy",
        "colab_type": "code",
        "outputId": "ddd00ffb-f060-4729-ad5a-8ac84f2739b9",
        "colab": {
          "base_uri": "https://localhost:8080/",
          "height": 34
        }
      },
      "source": [
        "#convert String to the List data Structure by using split() function\n",
        "\"bharat sharma\".split()\n"
      ],
      "execution_count": 0,
      "outputs": [
        {
          "output_type": "execute_result",
          "data": {
            "text/plain": [
              "['bharat', 'sharma']"
            ]
          },
          "metadata": {
            "tags": []
          },
          "execution_count": 53
        }
      ]
    },
    {
      "cell_type": "code",
      "metadata": {
        "id": "0TiUiffeDcRm",
        "colab_type": "code",
        "outputId": "60e0f106-1d28-4db1-c2db-c9b2a5c8ca40",
        "colab": {
          "base_uri": "https://localhost:8080/",
          "height": 34
        }
      },
      "source": [
        "#split string with delimiter\n",
        "\"A,B,C,D\".split(\",\")"
      ],
      "execution_count": 0,
      "outputs": [
        {
          "output_type": "execute_result",
          "data": {
            "text/plain": [
              "['A', 'B', 'C', 'D']"
            ]
          },
          "metadata": {
            "tags": []
          },
          "execution_count": 54
        }
      ]
    },
    {
      "cell_type": "code",
      "metadata": {
        "id": "utO5-anTDchq",
        "colab_type": "code",
        "outputId": "52c1be1d-5ae6-4047-8966-d9e7cba74d21",
        "colab": {
          "base_uri": "https://localhost:8080/",
          "height": 34
        }
      },
      "source": [
        "#accessing the last element of tuple\n",
        "A = (0,1,2,3)\n",
        "A[-1]\n",
        "A[3] #both gives same result that is last Element"
      ],
      "execution_count": 0,
      "outputs": [
        {
          "output_type": "execute_result",
          "data": {
            "text/plain": [
              "3"
            ]
          },
          "metadata": {
            "tags": []
          },
          "execution_count": 57
        }
      ]
    },
    {
      "cell_type": "code",
      "metadata": {
        "id": "iz5eLDEeDcui",
        "colab_type": "code",
        "outputId": "d20563a0-a496-4aeb-98f8-de40adb28fef",
        "colab": {
          "base_uri": "https://localhost:8080/",
          "height": 34
        }
      },
      "source": [
        "#sets\n",
        "#sets are a type of collection\n",
        "#this means that like lists and tuples you can input different Python types\n",
        "#Unlike lists and tuples they are Unordered\n",
        "#Sets onlu have unique elements\n",
        "#this means there is only one of a particular elements in a set\n",
        "#example\n",
        "set1 = {\"pop\", \"rock\", \"soul\", \"hard rock\", \"rock\", \"R&B\", \"rock\", \"disco\"}\n",
        "#when actual set is created dulicate value encountered\n",
        "set1"
      ],
      "execution_count": 0,
      "outputs": [
        {
          "output_type": "execute_result",
          "data": {
            "text/plain": [
              "{'R&B', 'disco', 'hard rock', 'pop', 'rock', 'soul'}"
            ]
          },
          "metadata": {
            "tags": []
          },
          "execution_count": 60
        }
      ]
    },
    {
      "cell_type": "code",
      "metadata": {
        "id": "n9kXaCLbDc7C",
        "colab_type": "code",
        "outputId": "b4ae2132-088b-4ff3-ddcb-42ef8c8a93cc",
        "colab": {
          "base_uri": "https://localhost:8080/",
          "height": 34
        }
      },
      "source": [
        "#creating set by using the list data structure\n",
        "list4 = [\"bharat sharma\", \"roxx\", \"james\"]\n",
        "set1 = set(list4)\n",
        "set1"
      ],
      "execution_count": 0,
      "outputs": [
        {
          "output_type": "execute_result",
          "data": {
            "text/plain": [
              "{'bharat sharma', 'james', 'roxx'}"
            ]
          },
          "metadata": {
            "tags": []
          },
          "execution_count": 62
        }
      ]
    },
    {
      "cell_type": "code",
      "metadata": {
        "id": "Yvr_xbnKx8DU",
        "colab_type": "code",
        "outputId": "3508377b-5dfc-483d-fa34-c61e4697e8fd",
        "colab": {
          "base_uri": "https://localhost:8080/",
          "height": 34
        }
      },
      "source": [
        "#set operations\n",
        "#add element to the set\n",
        "set1.add(\"Adding_Element\")\n",
        "set1"
      ],
      "execution_count": 0,
      "outputs": [
        {
          "output_type": "execute_result",
          "data": {
            "text/plain": [
              "{'Adding_Element', 'bharat sharma', 'james', 'roxx'}"
            ]
          },
          "metadata": {
            "tags": []
          },
          "execution_count": 63
        }
      ]
    },
    {
      "cell_type": "code",
      "metadata": {
        "id": "sXaBE8FqHnEa",
        "colab_type": "code",
        "outputId": "7e04a107-3738-4b94-d6e3-3f118965bc07",
        "colab": {
          "base_uri": "https://localhost:8080/",
          "height": 34
        }
      },
      "source": [
        "#removing element from th set\n",
        "set1.remove(\"james\")\n",
        "set1"
      ],
      "execution_count": 0,
      "outputs": [
        {
          "output_type": "execute_result",
          "data": {
            "text/plain": [
              "{'Adding_Element', 'bharat sharma', 'roxx'}"
            ]
          },
          "metadata": {
            "tags": []
          },
          "execution_count": 64
        }
      ]
    },
    {
      "cell_type": "code",
      "metadata": {
        "id": "Xo9dYpx7H2Mk",
        "colab_type": "code",
        "outputId": "905ea6e5-94bc-44ca-c1ab-1baa283cd155",
        "colab": {
          "base_uri": "https://localhost:8080/",
          "height": 34
        }
      },
      "source": [
        "#check particular element in the set\n",
        "\"roxx\" in set1"
      ],
      "execution_count": 0,
      "outputs": [
        {
          "output_type": "execute_result",
          "data": {
            "text/plain": [
              "True"
            ]
          },
          "metadata": {
            "tags": []
          },
          "execution_count": 67
        }
      ]
    },
    {
      "cell_type": "code",
      "metadata": {
        "id": "pQFoObYfH2dn",
        "colab_type": "code",
        "outputId": "84fa905e-e31e-4cd4-e385-681936e89cfc",
        "colab": {
          "base_uri": "https://localhost:8080/",
          "height": 34
        }
      },
      "source": [
        "#mathmatical operation on the sets\n",
        "set2 = {2,3,4,3,5,656,5,6}\n",
        "set3 = {34,65,43,656,77,2,3}\n",
        "#apply '&' that return intersection value of both sets(common value)\n",
        "set2 & set3"
      ],
      "execution_count": 0,
      "outputs": [
        {
          "output_type": "execute_result",
          "data": {
            "text/plain": [
              "{2, 3, 656}"
            ]
          },
          "metadata": {
            "tags": []
          },
          "execution_count": 68
        }
      ]
    },
    {
      "cell_type": "code",
      "metadata": {
        "id": "NJM61f1qH2so",
        "colab_type": "code",
        "outputId": "2f1abf7a-3654-4c36-cf97-30a6f1ed6f0e",
        "colab": {
          "base_uri": "https://localhost:8080/",
          "height": 34
        }
      },
      "source": [
        "#union of set\n",
        "set2.union(set3)"
      ],
      "execution_count": 0,
      "outputs": [
        {
          "output_type": "execute_result",
          "data": {
            "text/plain": [
              "{2, 3, 4, 5, 6, 34, 43, 65, 77, 656}"
            ]
          },
          "metadata": {
            "tags": []
          },
          "execution_count": 69
        }
      ]
    },
    {
      "cell_type": "code",
      "metadata": {
        "id": "OdIIKbMVH27n",
        "colab_type": "code",
        "outputId": "9ceaba1b-b102-4014-a51d-765e380423e7",
        "colab": {
          "base_uri": "https://localhost:8080/",
          "height": 34
        }
      },
      "source": [
        "#issubset() method return true if set3 contain all element of set2 otherwise false\n",
        "set3.issubset(set2)"
      ],
      "execution_count": 0,
      "outputs": [
        {
          "output_type": "execute_result",
          "data": {
            "text/plain": [
              "False"
            ]
          },
          "metadata": {
            "tags": []
          },
          "execution_count": 71
        }
      ]
    },
    {
      "cell_type": "code",
      "metadata": {
        "id": "uJM08iBcH3KP",
        "colab_type": "code",
        "outputId": "0e023b90-c538-4e85-86d3-7b4828358662",
        "colab": {
          "base_uri": "https://localhost:8080/",
          "height": 34
        }
      },
      "source": [
        "#Dictionaries\n",
        "#dictionaries is the type of collection in python\n",
        "#dictionry has a key and value\n",
        "#dictionary are denoted with curly brackets{}\n",
        "#the key have to be immutable and unique\n",
        "#Example\n",
        "dict1 = {\"Book1\":1990, \"Book2\":1995, \"Book3\":2000, \"Book4\":2005, \"Book5\":2010}\n",
        "dict1"
      ],
      "execution_count": 0,
      "outputs": [
        {
          "output_type": "execute_result",
          "data": {
            "text/plain": [
              "{'Book1': 1990, 'Book2': 1995, 'Book3': 2000, 'Book4': 2005, 'Book5': 2010}"
            ]
          },
          "metadata": {
            "tags": []
          },
          "execution_count": 72
        }
      ]
    },
    {
      "cell_type": "code",
      "metadata": {
        "id": "O-00B78UH3Xu",
        "colab_type": "code",
        "outputId": "242514ef-10a6-47f3-ae8b-42199f451732",
        "colab": {
          "base_uri": "https://localhost:8080/",
          "height": 34
        }
      },
      "source": [
        "#accessing the dictionary value\n",
        "dict1[\"Book1\"]"
      ],
      "execution_count": 0,
      "outputs": [
        {
          "output_type": "execute_result",
          "data": {
            "text/plain": [
              "1990"
            ]
          },
          "metadata": {
            "tags": []
          },
          "execution_count": 74
        }
      ]
    },
    {
      "cell_type": "code",
      "metadata": {
        "id": "OFp2sM91NBMN",
        "colab_type": "code",
        "outputId": "a7a0b0c6-7737-4c08-e4c1-ca41f81522b6",
        "colab": {
          "base_uri": "https://localhost:8080/",
          "height": 119
        }
      },
      "source": [
        "#adding the value to the dictionary\n",
        "dict1[\"Book6\"] = '2020'\n",
        "dict1"
      ],
      "execution_count": 0,
      "outputs": [
        {
          "output_type": "execute_result",
          "data": {
            "text/plain": [
              "{'Book1': 1990,\n",
              " 'Book2': 1995,\n",
              " 'Book3': 2000,\n",
              " 'Book4': 2005,\n",
              " 'Book5': 2010,\n",
              " 'Book6': '2020'}"
            ]
          },
          "metadata": {
            "tags": []
          },
          "execution_count": 81
        }
      ]
    },
    {
      "cell_type": "code",
      "metadata": {
        "id": "Zx9fAf81NBkH",
        "colab_type": "code",
        "outputId": "fa8b35be-b421-49ac-b8d4-c52abecd415e",
        "colab": {
          "base_uri": "https://localhost:8080/",
          "height": 34
        }
      },
      "source": [
        "#delete Element to the dictionary\n",
        "del(dict1['Book2'])\n",
        "dict1"
      ],
      "execution_count": 0,
      "outputs": [
        {
          "output_type": "execute_result",
          "data": {
            "text/plain": [
              "{'Book3': 2000, 'Book4': 2005, 'Book5': 2010, 'Book6': '2020'}"
            ]
          },
          "metadata": {
            "tags": []
          },
          "execution_count": 84
        }
      ]
    },
    {
      "cell_type": "code",
      "metadata": {
        "id": "dt7XVqS-OYPs",
        "colab_type": "code",
        "outputId": "21e2db5a-1c57-4571-8ea1-fc46d42b36d7",
        "colab": {
          "base_uri": "https://localhost:8080/",
          "height": 34
        }
      },
      "source": [
        "#check value that present in the dictionary by 'in'\n",
        "'Book3' in dict1"
      ],
      "execution_count": 0,
      "outputs": [
        {
          "output_type": "execute_result",
          "data": {
            "text/plain": [
              "True"
            ]
          },
          "metadata": {
            "tags": []
          },
          "execution_count": 85
        }
      ]
    },
    {
      "cell_type": "code",
      "metadata": {
        "id": "AIzT1AZiOyJ3",
        "colab_type": "code",
        "outputId": "18ea930b-691d-4c85-f4a0-b8560f11780d",
        "colab": {
          "base_uri": "https://localhost:8080/",
          "height": 34
        }
      },
      "source": [
        "#checkout the all keys present in the dictionary\n",
        "dict1.keys()"
      ],
      "execution_count": 0,
      "outputs": [
        {
          "output_type": "execute_result",
          "data": {
            "text/plain": [
              "dict_keys(['Book3', 'Book4', 'Book5', 'Book6'])"
            ]
          },
          "metadata": {
            "tags": []
          },
          "execution_count": 86
        }
      ]
    },
    {
      "cell_type": "code",
      "metadata": {
        "id": "GphCT0teP7BR",
        "colab_type": "code",
        "outputId": "47936c6d-2e2a-43bb-b063-49974dc4c6ac",
        "colab": {
          "base_uri": "https://localhost:8080/",
          "height": 34
        }
      },
      "source": [
        "#checkout the values available in the dictionary\n",
        "dict1.values()"
      ],
      "execution_count": 0,
      "outputs": [
        {
          "output_type": "execute_result",
          "data": {
            "text/plain": [
              "dict_values([2000, 2005, 2010, '2020'])"
            ]
          },
          "metadata": {
            "tags": []
          },
          "execution_count": 87
        }
      ]
    },
    {
      "cell_type": "code",
      "metadata": {
        "id": "9MNoiQPISYu-",
        "colab_type": "code",
        "outputId": "a586d8b3-c56c-4126-d9ed-e14ed30c35c9",
        "colab": {
          "base_uri": "https://localhost:8080/",
          "height": 51
        }
      },
      "source": [
        "#branching statement\n",
        "#if statement\n",
        "if(2<10):\n",
        "  print(\"10 is greater than 2\")\n",
        "print(\"move on..\")\n"
      ],
      "execution_count": 0,
      "outputs": [
        {
          "output_type": "stream",
          "text": [
            "10 is greater than 2\n",
            "move on\n"
          ],
          "name": "stdout"
        }
      ]
    },
    {
      "cell_type": "code",
      "metadata": {
        "id": "I7eQSQK7SZD5",
        "colab_type": "code",
        "outputId": "c8ca5e0d-f515-4f03-da02-9b3313ac6d1f",
        "colab": {
          "base_uri": "https://localhost:8080/",
          "height": 51
        }
      },
      "source": [
        "#if-else statement\n",
        "if(2>10):\n",
        "  print(\"10 is greater than 2\")\n",
        "else:\n",
        "  print(\"2 is smaller that 10\")\n",
        "print(\"move on..\")"
      ],
      "execution_count": 0,
      "outputs": [
        {
          "output_type": "stream",
          "text": [
            "2 is smaller that 10\n",
            "move on\n"
          ],
          "name": "stdout"
        }
      ]
    },
    {
      "cell_type": "code",
      "metadata": {
        "id": "YcSveuenSZVk",
        "colab_type": "code",
        "outputId": "23575e25-1efc-45c4-f0df-86780b57c7bd",
        "colab": {
          "base_uri": "https://localhost:8080/",
          "height": 51
        }
      },
      "source": [
        "#elif statement\n",
        "age = 17\n",
        "if(age>18):\n",
        "  print(\"greater than 18\")\n",
        "\n",
        "elif(age==18):\n",
        "  print(\"equal\")\n",
        "else:\n",
        "  print(\"smaller than 18\")\n",
        "print(\"move on\")"
      ],
      "execution_count": 0,
      "outputs": [
        {
          "output_type": "stream",
          "text": [
            "smaller than 18\n",
            "move on\n"
          ],
          "name": "stdout"
        }
      ]
    },
    {
      "cell_type": "code",
      "metadata": {
        "id": "K4WbOokMXGkm",
        "colab_type": "code",
        "outputId": "566c6e4a-a56e-42ee-c4dd-22b538f72a2f",
        "colab": {
          "base_uri": "https://localhost:8080/",
          "height": 34
        }
      },
      "source": [
        "#logiv operator\n",
        "#or, and, not\n",
        "#or example\n",
        "album_year = 1990\n",
        "if(album_year<1990)or(album_year>1989):\n",
        "  print(\"The album was made in the 70's and 90's\")\n",
        "else:\n",
        "  print(\"The album was made in the 1980's\")"
      ],
      "execution_count": 0,
      "outputs": [
        {
          "output_type": "stream",
          "text": [
            "The album was made in the 70's and 90's\n"
          ],
          "name": "stdout"
        }
      ]
    },
    {
      "cell_type": "code",
      "metadata": {
        "id": "_4yOwhq2XG4A",
        "colab_type": "code",
        "outputId": "7631df1c-c19c-4395-b625-6d91afb918f0",
        "colab": {
          "base_uri": "https://localhost:8080/",
          "height": 34
        }
      },
      "source": [
        "#not\n",
        "a = True\n",
        "not(a) "
      ],
      "execution_count": 0,
      "outputs": [
        {
          "output_type": "execute_result",
          "data": {
            "text/plain": [
              "False"
            ]
          },
          "metadata": {
            "tags": []
          },
          "execution_count": 101
        }
      ]
    },
    {
      "cell_type": "code",
      "metadata": {
        "id": "NkmZKaL1YQqN",
        "colab_type": "code",
        "outputId": "b8db4dab-7c5f-4bd6-b164-50af2b5e05ea",
        "colab": {
          "base_uri": "https://localhost:8080/",
          "height": 34
        }
      },
      "source": [
        "#and\n",
        "album_year = 1970\n",
        "if(album_year>1960)and(album_year<1990):\n",
        "  print(\"This album was made in 80's\")\n"
      ],
      "execution_count": 0,
      "outputs": [
        {
          "output_type": "stream",
          "text": [
            "This album was made in 80's\n"
          ],
          "name": "stdout"
        }
      ]
    },
    {
      "cell_type": "code",
      "metadata": {
        "id": "3TzYdpwYZfu-",
        "colab_type": "code",
        "outputId": "fcd16746-985f-46e4-b77e-c447f13b560a",
        "colab": {
          "base_uri": "https://localhost:8080/",
          "height": 34
        }
      },
      "source": [
        "#loops\n",
        "#before that we aware one important function that is range() used to generate sequence of number\n",
        "#example\n",
        "range(0,10)"
      ],
      "execution_count": 0,
      "outputs": [
        {
          "output_type": "stream",
          "text": [
            "range(0, 10)\n"
          ],
          "name": "stdout"
        }
      ]
    },
    {
      "cell_type": "code",
      "metadata": {
        "id": "zDi32V5eZgDS",
        "colab_type": "code",
        "outputId": "6dd61dd9-910c-470c-add0-aec6f2a4769b",
        "colab": {
          "base_uri": "https://localhost:8080/",
          "height": 34
        }
      },
      "source": [
        "#example of loops\n",
        "#suppose we have list of some colors and we decided to replace all existing color in list by the white color\n",
        "#move on\n",
        "color_list = [\"red\", \"yellow\", \"orange\", \"blue\", \"magenta\", \"pink\"]\n",
        "for i in range(0,len(color_list)):\n",
        "  color_list[i] = \"White\"\n",
        "\n",
        "color_list"
      ],
      "execution_count": 0,
      "outputs": [
        {
          "output_type": "execute_result",
          "data": {
            "text/plain": [
              "['White', 'White', 'White', 'White', 'White', 'White']"
            ]
          },
          "metadata": {
            "tags": []
          },
          "execution_count": 106
        }
      ]
    },
    {
      "cell_type": "code",
      "metadata": {
        "id": "d67hf55fZgWu",
        "colab_type": "code",
        "outputId": "cf22fcc8-d91f-4dfc-800a-add5fc19a807",
        "colab": {
          "base_uri": "https://localhost:8080/",
          "height": 34
        }
      },
      "source": [
        "#while loop\n",
        "color_list2 = [\"orange\", \"orange\",\"purple\",\"blue\"]\n",
        "newcolor_list = []\n",
        "i=0\n",
        "while(color_list2[i] == 'orange'):\n",
        "  newcolor_list.append(color_list2[i])\n",
        "  i=i+1\n",
        "newcolor_list"
      ],
      "execution_count": 0,
      "outputs": [
        {
          "output_type": "execute_result",
          "data": {
            "text/plain": [
              "['orange', 'orange']"
            ]
          },
          "metadata": {
            "tags": []
          },
          "execution_count": 120
        }
      ]
    },
    {
      "cell_type": "code",
      "metadata": {
        "id": "boheCABVfEtX",
        "colab_type": "code",
        "outputId": "0cc490bb-228d-40f2-9210-8f8bfe5f84bf",
        "colab": {
          "base_uri": "https://localhost:8080/",
          "height": 68
        }
      },
      "source": [
        "A = [3,4,5]\n",
        "for a in A:\n",
        "  print(a)"
      ],
      "execution_count": 0,
      "outputs": [
        {
          "output_type": "stream",
          "text": [
            "3\n",
            "4\n",
            "5\n"
          ],
          "name": "stdout"
        }
      ]
    },
    {
      "cell_type": "code",
      "metadata": {
        "id": "okacIutYgi2x",
        "colab_type": "code",
        "outputId": "4f7989cd-fc15-4663-b04f-ccce050b6ded",
        "colab": {
          "base_uri": "https://localhost:8080/",
          "height": 34
        }
      },
      "source": [
        "#functions\n",
        "#we learn so many function already\n",
        "#here we discuss some function related to math\n",
        "lst = [1,2,3,4,5,6,2,3,4,56,3]\n",
        "sum(lst) #it return the sum of the list"
      ],
      "execution_count": 0,
      "outputs": [
        {
          "output_type": "execute_result",
          "data": {
            "text/plain": [
              "89"
            ]
          },
          "metadata": {
            "tags": []
          },
          "execution_count": 126
        }
      ]
    },
    {
      "cell_type": "code",
      "metadata": {
        "id": "wDXrIKiCgjBu",
        "colab_type": "code",
        "outputId": "58ae6784-195a-499c-8973-1670535441a9",
        "colab": {
          "base_uri": "https://localhost:8080/",
          "height": 34
        }
      },
      "source": [
        "#sort function\n",
        "lst.sort()\n",
        "lst"
      ],
      "execution_count": 0,
      "outputs": [
        {
          "output_type": "execute_result",
          "data": {
            "text/plain": [
              "[1, 2, 2, 3, 3, 3, 4, 4, 5, 6, 56]"
            ]
          },
          "metadata": {
            "tags": []
          },
          "execution_count": 129
        }
      ]
    },
    {
      "cell_type": "code",
      "metadata": {
        "id": "IJVKfFIGgjKu",
        "colab_type": "code",
        "outputId": "7ee55d87-405a-453e-dad8-a2f531d586f1",
        "colab": {
          "base_uri": "https://localhost:8080/",
          "height": 34
        }
      },
      "source": [
        "#user defined function \n",
        "#function with one parameter\n",
        "def add1(a):\n",
        "  b=a+2\n",
        "  return b\n",
        "add1(10)\n"
      ],
      "execution_count": 0,
      "outputs": [
        {
          "output_type": "execute_result",
          "data": {
            "text/plain": [
              "12"
            ]
          },
          "metadata": {
            "tags": []
          },
          "execution_count": 130
        }
      ]
    },
    {
      "cell_type": "code",
      "metadata": {
        "id": "LOzWtZjKgjVM",
        "colab_type": "code",
        "outputId": "292c063a-637d-4287-e796-9010f4571a0d",
        "colab": {
          "base_uri": "https://localhost:8080/",
          "height": 34
        }
      },
      "source": [
        "#function with two parameter \n",
        "#function can have multiple parameter\n",
        "def multi(a,b):\n",
        "  c=a*b\n",
        "  return c\n",
        "multi(10,20)"
      ],
      "execution_count": 0,
      "outputs": [
        {
          "output_type": "execute_result",
          "data": {
            "text/plain": [
              "200"
            ]
          },
          "metadata": {
            "tags": []
          },
          "execution_count": 131
        }
      ]
    },
    {
      "cell_type": "code",
      "metadata": {
        "id": "8A1eRf5SiqOe",
        "colab_type": "code",
        "outputId": "a7e108c7-577f-43e3-dc4b-1f55ddc2c5d4",
        "colab": {
          "base_uri": "https://localhost:8080/",
          "height": 34
        }
      },
      "source": [
        "#function with no return type\n",
        "def MJ():\n",
        "  print(\"Bharat Sharma\")\n",
        "MJ()"
      ],
      "execution_count": 0,
      "outputs": [
        {
          "output_type": "stream",
          "text": [
            "Bharat Sharma\n"
          ],
          "name": "stdout"
        }
      ]
    },
    {
      "cell_type": "code",
      "metadata": {
        "id": "pQpZzjq-jIIR",
        "colab_type": "code",
        "colab": {}
      },
      "source": [
        "#function with no work\n",
        "def NoWork():\n",
        "  pass\n",
        "  return None\n",
        "NoWork()\n"
      ],
      "execution_count": 0,
      "outputs": []
    },
    {
      "cell_type": "code",
      "metadata": {
        "id": "YqoLXeR-jIWt",
        "colab_type": "code",
        "outputId": "507a9cc2-84ab-481e-b549-b3ffb4eb1076",
        "colab": {
          "base_uri": "https://localhost:8080/",
          "height": 68
        }
      },
      "source": [
        "#collecting Arguments\n",
        "#* sign collect many parameters\n",
        "def ArtistNames(*names):\n",
        "  for name in names:\n",
        "    print(name)\n",
        "ArtistNames(\"Bharat Sharma\", \"james\",\"peter\")"
      ],
      "execution_count": 0,
      "outputs": [
        {
          "output_type": "stream",
          "text": [
            "Bharat Sharma\n",
            "james\n",
            "peter\n"
          ],
          "name": "stdout"
        }
      ]
    },
    {
      "cell_type": "code",
      "metadata": {
        "id": "dwA0eZNmjIg6",
        "colab_type": "code",
        "colab": {}
      },
      "source": [
        "#class\n",
        "#creation of class\n",
        "class Circle(object):\n",
        "  def __init__(self,radius,color):\n",
        "    self.radius = radius;\n",
        "    self.color = color;\n",
        "  def add_radius(self,r):\n",
        "    self.radius = self.radius+r\n",
        "    return (self.radius)"
      ],
      "execution_count": 0,
      "outputs": []
    },
    {
      "cell_type": "markdown",
      "metadata": {
        "id": "DRruZobpnomJ",
        "colab_type": "text"
      },
      "source": [
        ""
      ]
    },
    {
      "cell_type": "code",
      "metadata": {
        "id": "ullmhp2CjIvk",
        "colab_type": "code",
        "outputId": "30153ca9-567f-4647-fafa-bef504ed98ae",
        "colab": {
          "base_uri": "https://localhost:8080/",
          "height": 68
        }
      },
      "source": [
        "A = ['1','2','3']\n",
        "for a in A:\n",
        "  print(2*a)"
      ],
      "execution_count": 0,
      "outputs": [
        {
          "output_type": "stream",
          "text": [
            "11\n",
            "22\n",
            "33\n"
          ],
          "name": "stdout"
        }
      ]
    },
    {
      "cell_type": "code",
      "metadata": {
        "id": "XarhoSj-jIs9",
        "colab_type": "code",
        "outputId": "f0b55e4d-a895-4299-d066-28c40983d1d0",
        "colab": {
          "base_uri": "https://localhost:8080/",
          "height": 34
        }
      },
      "source": [
        "class Points(object):\n",
        "  def __init__(self,x,y):\n",
        "    self.x=x\n",
        "    self.y=y\n",
        "  def print_point(self):\n",
        "    print('x=',self.x,' y=',self.y)\n",
        "\n",
        "p1=Points(1,2)\n",
        "p1.print_point()"
      ],
      "execution_count": 0,
      "outputs": [
        {
          "output_type": "stream",
          "text": [
            "x= 1  y= 2\n"
          ],
          "name": "stdout"
        }
      ]
    },
    {
      "cell_type": "code",
      "metadata": {
        "id": "dFN_cdomjIqG",
        "colab_type": "code",
        "outputId": "0fae7fad-a12b-4a34-c8ae-af44e09fa361",
        "colab": {
          "base_uri": "https://localhost:8080/",
          "height": 34
        }
      },
      "source": [
        "class Points(object):\n",
        "  def __init__(self,x,y):\n",
        "    self.x=x\n",
        "    self.y=y\n",
        "\n",
        "  def print_point(self):\n",
        "    print('x=',self.x,' y=',self.y)\n",
        "\n",
        "p2=Points(1,2)\n",
        "p2.x=2\n",
        "p2.print_point()"
      ],
      "execution_count": 0,
      "outputs": [
        {
          "output_type": "stream",
          "text": [
            "x= 2  y= 2\n"
          ],
          "name": "stdout"
        }
      ]
    },
    {
      "cell_type": "code",
      "metadata": {
        "id": "hf68eQt89zzZ",
        "colab_type": "code",
        "colab": {
          "base_uri": "https://localhost:8080/",
          "height": 119
        },
        "outputId": "01129fbb-19af-4053-bf5e-272c35921ac4"
      },
      "source": [
        "#insertion sort \n",
        "def insertion_sort(array):\n",
        "  for i in range(1, len(array)):\n",
        "    #current number to be compared\n",
        "    curNum = array[i]\n",
        "    #compare curNum with the sorted part of the array and insert curNum \n",
        "    while(i>0)and (array[i-1]>curNum):\n",
        "      array[i] = array[i-1]\n",
        "      i = i-1\n",
        "      array[i] = curNum\n",
        "array = [16,23,43,1,31,8]\n",
        "print('Unsorted array')\n",
        "print(array)\n",
        "print(' ')\n",
        "insertion_sort(array)\n",
        "print(' ')\n",
        "print('Sorted array:')\n",
        "print(array)"
      ],
      "execution_count": 2,
      "outputs": [
        {
          "output_type": "stream",
          "text": [
            "Unsorted array\n",
            "[16, 23, 43, 1, 31, 8]\n",
            " \n",
            " \n",
            "Sorted array:\n",
            "[1, 8, 16, 23, 31, 43]\n"
          ],
          "name": "stdout"
        }
      ]
    },
    {
      "cell_type": "code",
      "metadata": {
        "id": "fW2wZC7S_m1Z",
        "colab_type": "code",
        "colab": {
          "base_uri": "https://localhost:8080/",
          "height": 85
        },
        "outputId": "0ed461e7-e308-4420-9425-3c97c87f9461"
      },
      "source": [
        "#Quick sort\n",
        "def partition(array, low, high):\n",
        "  i = (low-1)\n",
        "  pivot = array[high]\n",
        "  for j in range(low, high):\n",
        "    if array[j] <= pivot:\n",
        "      i+=1\n",
        "      array[i],array[j] = array[j],array[i]\n",
        "  array[i+1],array[high] = array[high],array[i+1]\n",
        "  return (i+1)\n",
        "\n",
        "def quick_sort(array, low, high):\n",
        "  if low < high:\n",
        "    partition_index = partition(array, low, high)\n",
        "    quick_sort(array, low, partition_index-1)\n",
        "    quick_sort(array, partition_index+1, high)\n",
        "\n",
        "array = [1,0,4,2,3,5]\n",
        "print('Unsorted array')\n",
        "print(array)\n",
        "\n",
        "low=0\n",
        "high = len(array)-1\n",
        "quick_sort(array, low, high)\n",
        "\n",
        "print('Sorted array')\n",
        "print(array)"
      ],
      "execution_count": 3,
      "outputs": [
        {
          "output_type": "stream",
          "text": [
            "Unsorted array\n",
            "[1, 0, 4, 2, 3, 5]\n",
            "Sorted array\n",
            "[0, 1, 2, 3, 4, 5]\n"
          ],
          "name": "stdout"
        }
      ]
    },
    {
      "cell_type": "code",
      "metadata": {
        "id": "3a1oLWyt_nm8",
        "colab_type": "code",
        "colab": {
          "base_uri": "https://localhost:8080/",
          "height": 34
        },
        "outputId": "a0297374-661a-4f3b-f71f-d11ff8fb4d6f"
      },
      "source": [
        "#linear search\n",
        "def search_linear(array, target):\n",
        "  for i in range(len(array)):\n",
        "    if array[i] == target:\n",
        "      return i\n",
        "  return None\n",
        "target = 5\n",
        "array = [1,0,4,2,3,5]\n",
        "result = search_linear(array, target)\n",
        "if result is not None:\n",
        "  print('Value {} found at position {} using linear search'.format(target,result+1))\n",
        "else:\n",
        "  print('Not Found')"
      ],
      "execution_count": 4,
      "outputs": [
        {
          "output_type": "stream",
          "text": [
            "Value 5 found at position 6 using linear search\n"
          ],
          "name": "stdout"
        }
      ]
    },
    {
      "cell_type": "code",
      "metadata": {
        "id": "sNoWGg2HEp4j",
        "colab_type": "code",
        "colab": {}
      },
      "source": [
        "#binary search\n",
        "def search_binary(sorted_array, target):\n",
        "  left = 0\n",
        "  right = len(sorted_array)-1\n",
        "  while left <= right:\n",
        "    midpoint = left + (right-left)//2\n",
        "    current = sorted_array[midpoint]\n",
        "    if current == target:\n",
        "      return midpoint\n",
        "    else:\n",
        "      if target < current:\n",
        "        right = midpoint-1\n",
        "      else:\n",
        "        left = midpoint-1\n",
        "  return None\n",
        "target = 5\n",
        "sorted_array = [0,1,2,3,4,5]\n",
        "result = search_binary(sorted_array, target)\n",
        "if result is not None:\n",
        "  print('Value {} found at position {} using binary search'.format(target, result+1))\n",
        "else:\n",
        "  print('Not Found')\n"
      ],
      "execution_count": 0,
      "outputs": []
    },
    {
      "cell_type": "code",
      "metadata": {
        "id": "55bBPkhuGoUY",
        "colab_type": "code",
        "colab": {
          "base_uri": "https://localhost:8080/",
          "height": 68
        },
        "outputId": "2b95d2ad-c5ab-450b-e3f9-038ecc61eaa8"
      },
      "source": [
        "#implementing a Geometric Algorithms\n",
        "#objective:check if two line segment intersect\n",
        "class Point:\n",
        "\n",
        "     def __init__(self, x, y):\n",
        "\n",
        "         self.x = x\n",
        "\n",
        "         self.y = y\n",
        "\n",
        " \n",
        "\n",
        "     def subtract(self, p):\n",
        "\n",
        "          return Point(self.x - p.x, self.y - p.y)\n",
        "\n",
        " \n",
        "\n",
        "def cross_product(p1, p2):\n",
        "\n",
        "      return p1.x * p2.y - p2.x * p1.y\n",
        "\n",
        " \n",
        "\n",
        "def direction(p1, p2, p3):\n",
        "\n",
        "     return  cross_product(p3.subtract(p1), p2.subtract(p1))\n",
        "\n",
        " \n",
        "\n",
        "def on_segment(p1, p2, p):\n",
        "\n",
        "     return min(p1.x, p2.x) <= p.x <= max(p1.x, p2.x) and min(p1.y, p2.y) <= p.y <= max(p1.y, p2.y)\n",
        "\n",
        " \n",
        "\n",
        "def intersect(p1, p2, p3, p4):\n",
        "\n",
        "     d1 = direction(p3, p4, p1)\n",
        "\n",
        "     d2 = direction(p3, p4, p2)\n",
        "\n",
        "     d3 = direction(p1, p2, p3)\n",
        "\n",
        "     d4 = direction(p1, p2, p4)\n",
        "\n",
        " \n",
        "\n",
        "     if ((d1 > 0 and d2 < 0) or (d1 < 0 and d2 > 0)) and ((d3 > 0 and d4 < 0) or (d3 < 0 and d4 > 0)):\n",
        "\n",
        "         return True\n",
        "\n",
        "     elif d1 == 0 and on_segment(p3, p4, p1):\n",
        "\n",
        "         return True\n",
        "\n",
        "     elif d2 == 0 and on_segment(p3, p4, p2):\n",
        "\n",
        "         return True\n",
        "\n",
        "     elif d3 == 0 and on_segment(p1, p2, p3):\n",
        "\n",
        "         return True\n",
        "\n",
        "     elif d4 == 0 and on_segment(p1, p2, p4):\n",
        "\n",
        "         return True\n",
        "\n",
        "     else:\n",
        "\n",
        "         return False\n",
        "\n",
        " \n",
        "\n",
        "#False\n",
        "\n",
        "point1 = Point(1,1)\n",
        "\n",
        "point2 = Point(10,1)\n",
        "\n",
        "point3 = Point(1,2)\n",
        "\n",
        "point4 = Point(10,2)\n",
        "\n",
        "result = intersect(point1, point2, point3, point4)\n",
        "\n",
        "print(result)\n",
        "\n",
        " \n",
        "\n",
        "#True\n",
        "\n",
        "point1 = Point(10,1)\n",
        "\n",
        "point2 = Point(0,10)\n",
        "\n",
        "point3 = Point(0,0)\n",
        "\n",
        "point4 = Point(10,10)\n",
        "\n",
        "result = intersect(point1, point2, point3, point4)\n",
        "\n",
        "print(result)\n",
        "\n",
        " \n",
        "\n",
        "#False\n",
        "\n",
        "point1 = Point(-5,-5)\n",
        "\n",
        "point2 = Point(0,0)\n",
        "\n",
        "point3 = Point(1,1)\n",
        "\n",
        "point4 = Point(10,10)\n",
        "\n",
        "result = intersect(point1, point2, point3, point4)\n",
        "\n",
        "print(result)"
      ],
      "execution_count": 8,
      "outputs": [
        {
          "output_type": "stream",
          "text": [
            "False\n",
            "True\n",
            "False\n"
          ],
          "name": "stdout"
        }
      ]
    },
    {
      "cell_type": "code",
      "metadata": {
        "id": "WROBmFpVIYzN",
        "colab_type": "code",
        "colab": {}
      },
      "source": [
        ""
      ],
      "execution_count": 0,
      "outputs": []
    }
  ]
}